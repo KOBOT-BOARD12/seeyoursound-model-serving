{
 "cells": [
  {
   "cell_type": "code",
   "execution_count": 2,
   "id": "bea3e3ee-12a7-4476-a41d-023f5232660e",
   "metadata": {
    "execution": {
     "iopub.execute_input": "2023-08-28T02:32:19.277890Z",
     "iopub.status.busy": "2023-08-28T02:32:19.277176Z",
     "iopub.status.idle": "2023-08-28T02:32:37.972271Z",
     "shell.execute_reply": "2023-08-28T02:32:37.968477Z",
     "shell.execute_reply.started": "2023-08-28T02:32:19.277830Z"
    },
    "tags": []
   },
   "outputs": [
    {
     "name": "stderr",
     "output_type": "stream",
     "text": [
      "/home/20223164/.conda/envs/ssl/lib/python3.11/site-packages/tqdm/auto.py:21: TqdmWarning: IProgress not found. Please update jupyter and ipywidgets. See https://ipywidgets.readthedocs.io/en/stable/user_install.html\n",
      "  from .autonotebook import tqdm as notebook_tqdm\n"
     ]
    },
    {
     "ename": "RuntimeError",
     "evalue": "espeak not installed on your system",
     "output_type": "error",
     "traceback": [
      "\u001b[0;31m---------------------------------------------------------------------------\u001b[0m",
      "\u001b[0;31mRuntimeError\u001b[0m                              Traceback (most recent call last)",
      "Cell \u001b[0;32mIn[2], line 96\u001b[0m\n\u001b[1;32m     94\u001b[0m \u001b[38;5;66;03m# 문자열에서 IPA 받아옴 ex) 영석아 -> jʌŋsʌqɐ\u001b[39;00m\n\u001b[1;32m     95\u001b[0m keyword \u001b[38;5;241m=\u001b[39m \u001b[38;5;124m\"\u001b[39m\u001b[38;5;124m저기요\u001b[39m\u001b[38;5;124m\"\u001b[39m\n\u001b[0;32m---> 96\u001b[0m ipa_of_keyword \u001b[38;5;241m=\u001b[39m \u001b[43mconvert_to_ipa\u001b[49m\u001b[43m(\u001b[49m\u001b[43mkeyword\u001b[49m\u001b[43m)\u001b[49m\u001b[38;5;241m.\u001b[39mreplace(\u001b[38;5;124m'\u001b[39m\u001b[38;5;124m \u001b[39m\u001b[38;5;124m'\u001b[39m, \u001b[38;5;124m'\u001b[39m\u001b[38;5;124m'\u001b[39m)\n\u001b[1;32m     97\u001b[0m \u001b[38;5;28mprint\u001b[39m(\u001b[38;5;124mf\u001b[39m\u001b[38;5;124m\"\u001b[39m\u001b[38;5;124mipa of \u001b[39m\u001b[38;5;124m'\u001b[39m\u001b[38;5;132;01m{\u001b[39;00mkeyword\u001b[38;5;132;01m}\u001b[39;00m\u001b[38;5;124m'\u001b[39m\u001b[38;5;124m : \u001b[39m\u001b[38;5;132;01m{\u001b[39;00mipa_of_keyword\u001b[38;5;132;01m}\u001b[39;00m\u001b[38;5;124m\"\u001b[39m)\n\u001b[1;32m     99\u001b[0m \u001b[38;5;66;03m# 허깅페이스에서 Wav2Vec2로 한국어의 MFA 발음을 예측하도록 학습된 모델을 가져옴\u001b[39;00m\n",
      "Cell \u001b[0;32mIn[2], line 51\u001b[0m, in \u001b[0;36mconvert_to_ipa\u001b[0;34m(korean_text)\u001b[0m\n\u001b[1;32m     50\u001b[0m \u001b[38;5;28;01mdef\u001b[39;00m \u001b[38;5;21mconvert_to_ipa\u001b[39m(korean_text):\n\u001b[0;32m---> 51\u001b[0m     ipa_text \u001b[38;5;241m=\u001b[39m \u001b[43mphonemize\u001b[49m\u001b[43m(\u001b[49m\u001b[43mkorean_text\u001b[49m\u001b[43m,\u001b[49m\u001b[43m \u001b[49m\u001b[43mlanguage\u001b[49m\u001b[38;5;241;43m=\u001b[39;49m\u001b[38;5;124;43m\"\u001b[39;49m\u001b[38;5;124;43mko\u001b[39;49m\u001b[38;5;124;43m\"\u001b[39;49m\u001b[43m,\u001b[49m\u001b[43m \u001b[49m\u001b[43mbackend\u001b[49m\u001b[38;5;241;43m=\u001b[39;49m\u001b[38;5;124;43m\"\u001b[39;49m\u001b[38;5;124;43mespeak\u001b[39;49m\u001b[38;5;124;43m\"\u001b[39;49m\u001b[43m)\u001b[49m\n\u001b[1;32m     53\u001b[0m     \u001b[38;5;28;01mreturn\u001b[39;00m ipa_text\n",
      "File \u001b[0;32m~/.conda/envs/ssl/lib/python3.11/site-packages/phonemizer/phonemize.py:206\u001b[0m, in \u001b[0;36mphonemize\u001b[0;34m(text, language, backend, separator, strip, prepend_text, preserve_empty_lines, preserve_punctuation, punctuation_marks, with_stress, tie, language_switch, words_mismatch, njobs, logger)\u001b[0m\n\u001b[1;32m    204\u001b[0m \u001b[38;5;66;03m# initialize the phonemization backend\u001b[39;00m\n\u001b[1;32m    205\u001b[0m \u001b[38;5;28;01mif\u001b[39;00m backend \u001b[38;5;241m==\u001b[39m \u001b[38;5;124m'\u001b[39m\u001b[38;5;124mespeak\u001b[39m\u001b[38;5;124m'\u001b[39m:\n\u001b[0;32m--> 206\u001b[0m     phonemizer \u001b[38;5;241m=\u001b[39m \u001b[43mBACKENDS\u001b[49m\u001b[43m[\u001b[49m\u001b[43mbackend\u001b[49m\u001b[43m]\u001b[49m\u001b[43m(\u001b[49m\n\u001b[1;32m    207\u001b[0m \u001b[43m        \u001b[49m\u001b[43mlanguage\u001b[49m\u001b[43m,\u001b[49m\n\u001b[1;32m    208\u001b[0m \u001b[43m        \u001b[49m\u001b[43mpunctuation_marks\u001b[49m\u001b[38;5;241;43m=\u001b[39;49m\u001b[43mpunctuation_marks\u001b[49m\u001b[43m,\u001b[49m\n\u001b[1;32m    209\u001b[0m \u001b[43m        \u001b[49m\u001b[43mpreserve_punctuation\u001b[49m\u001b[38;5;241;43m=\u001b[39;49m\u001b[43mpreserve_punctuation\u001b[49m\u001b[43m,\u001b[49m\n\u001b[1;32m    210\u001b[0m \u001b[43m        \u001b[49m\u001b[43mwith_stress\u001b[49m\u001b[38;5;241;43m=\u001b[39;49m\u001b[43mwith_stress\u001b[49m\u001b[43m,\u001b[49m\n\u001b[1;32m    211\u001b[0m \u001b[43m        \u001b[49m\u001b[43mtie\u001b[49m\u001b[38;5;241;43m=\u001b[39;49m\u001b[43mtie\u001b[49m\u001b[43m,\u001b[49m\n\u001b[1;32m    212\u001b[0m \u001b[43m        \u001b[49m\u001b[43mlanguage_switch\u001b[49m\u001b[38;5;241;43m=\u001b[39;49m\u001b[43mlanguage_switch\u001b[49m\u001b[43m,\u001b[49m\n\u001b[1;32m    213\u001b[0m \u001b[43m        \u001b[49m\u001b[43mwords_mismatch\u001b[49m\u001b[38;5;241;43m=\u001b[39;49m\u001b[43mwords_mismatch\u001b[49m\u001b[43m,\u001b[49m\n\u001b[1;32m    214\u001b[0m \u001b[43m        \u001b[49m\u001b[43mlogger\u001b[49m\u001b[38;5;241;43m=\u001b[39;49m\u001b[43mlogger\u001b[49m\u001b[43m)\u001b[49m\n\u001b[1;32m    215\u001b[0m \u001b[38;5;28;01melif\u001b[39;00m backend \u001b[38;5;241m==\u001b[39m \u001b[38;5;124m'\u001b[39m\u001b[38;5;124mespeak-mbrola\u001b[39m\u001b[38;5;124m'\u001b[39m:\n\u001b[1;32m    216\u001b[0m     phonemizer \u001b[38;5;241m=\u001b[39m BACKENDS[backend](\n\u001b[1;32m    217\u001b[0m         language,\n\u001b[1;32m    218\u001b[0m         logger\u001b[38;5;241m=\u001b[39mlogger)\n",
      "File \u001b[0;32m~/.conda/envs/ssl/lib/python3.11/site-packages/phonemizer/backend/espeak/espeak.py:45\u001b[0m, in \u001b[0;36mEspeakBackend.__init__\u001b[0;34m(self, language, punctuation_marks, preserve_punctuation, with_stress, tie, language_switch, words_mismatch, logger)\u001b[0m\n\u001b[1;32m     37\u001b[0m \u001b[38;5;28;01mdef\u001b[39;00m \u001b[38;5;21m__init__\u001b[39m(\u001b[38;5;28mself\u001b[39m, language: \u001b[38;5;28mstr\u001b[39m,\n\u001b[1;32m     38\u001b[0m              punctuation_marks: Optional[Union[\u001b[38;5;28mstr\u001b[39m, Pattern]] \u001b[38;5;241m=\u001b[39m \u001b[38;5;28;01mNone\u001b[39;00m,\n\u001b[1;32m     39\u001b[0m              preserve_punctuation: \u001b[38;5;28mbool\u001b[39m \u001b[38;5;241m=\u001b[39m \u001b[38;5;28;01mFalse\u001b[39;00m,\n\u001b[0;32m   (...)\u001b[0m\n\u001b[1;32m     43\u001b[0m              words_mismatch: WordMismatch \u001b[38;5;241m=\u001b[39m \u001b[38;5;124m'\u001b[39m\u001b[38;5;124mignore\u001b[39m\u001b[38;5;124m'\u001b[39m,\n\u001b[1;32m     44\u001b[0m              logger: Optional[Logger] \u001b[38;5;241m=\u001b[39m \u001b[38;5;28;01mNone\u001b[39;00m):\n\u001b[0;32m---> 45\u001b[0m     \u001b[38;5;28;43msuper\u001b[39;49m\u001b[43m(\u001b[49m\u001b[43m)\u001b[49m\u001b[38;5;241;43m.\u001b[39;49m\u001b[38;5;21;43m__init__\u001b[39;49m\u001b[43m(\u001b[49m\n\u001b[1;32m     46\u001b[0m \u001b[43m        \u001b[49m\u001b[43mlanguage\u001b[49m\u001b[43m,\u001b[49m\u001b[43m \u001b[49m\u001b[43mpunctuation_marks\u001b[49m\u001b[38;5;241;43m=\u001b[39;49m\u001b[43mpunctuation_marks\u001b[49m\u001b[43m,\u001b[49m\n\u001b[1;32m     47\u001b[0m \u001b[43m        \u001b[49m\u001b[43mpreserve_punctuation\u001b[49m\u001b[38;5;241;43m=\u001b[39;49m\u001b[43mpreserve_punctuation\u001b[49m\u001b[43m,\u001b[49m\u001b[43m \u001b[49m\u001b[43mlogger\u001b[49m\u001b[38;5;241;43m=\u001b[39;49m\u001b[43mlogger\u001b[49m\u001b[43m)\u001b[49m\n\u001b[1;32m     49\u001b[0m     \u001b[38;5;28mself\u001b[39m\u001b[38;5;241m.\u001b[39m_espeak\u001b[38;5;241m.\u001b[39mset_voice(language)\n\u001b[1;32m     50\u001b[0m     \u001b[38;5;28mself\u001b[39m\u001b[38;5;241m.\u001b[39m_with_stress \u001b[38;5;241m=\u001b[39m with_stress\n",
      "File \u001b[0;32m~/.conda/envs/ssl/lib/python3.11/site-packages/phonemizer/backend/espeak/base.py:39\u001b[0m, in \u001b[0;36mBaseEspeakBackend.__init__\u001b[0;34m(self, language, punctuation_marks, preserve_punctuation, logger)\u001b[0m\n\u001b[1;32m     35\u001b[0m \u001b[38;5;28;01mdef\u001b[39;00m \u001b[38;5;21m__init__\u001b[39m(\u001b[38;5;28mself\u001b[39m, language: \u001b[38;5;28mstr\u001b[39m,\n\u001b[1;32m     36\u001b[0m              punctuation_marks: Optional[Union[\u001b[38;5;28mstr\u001b[39m, Pattern]] \u001b[38;5;241m=\u001b[39m \u001b[38;5;28;01mNone\u001b[39;00m,\n\u001b[1;32m     37\u001b[0m              preserve_punctuation: \u001b[38;5;28mbool\u001b[39m \u001b[38;5;241m=\u001b[39m \u001b[38;5;28;01mFalse\u001b[39;00m,\n\u001b[1;32m     38\u001b[0m              logger: Optional[Logger] \u001b[38;5;241m=\u001b[39m \u001b[38;5;28;01mNone\u001b[39;00m):\n\u001b[0;32m---> 39\u001b[0m     \u001b[38;5;28;43msuper\u001b[39;49m\u001b[43m(\u001b[49m\u001b[43m)\u001b[49m\u001b[38;5;241;43m.\u001b[39;49m\u001b[38;5;21;43m__init__\u001b[39;49m\u001b[43m(\u001b[49m\n\u001b[1;32m     40\u001b[0m \u001b[43m        \u001b[49m\u001b[43mlanguage\u001b[49m\u001b[43m,\u001b[49m\n\u001b[1;32m     41\u001b[0m \u001b[43m        \u001b[49m\u001b[43mpunctuation_marks\u001b[49m\u001b[38;5;241;43m=\u001b[39;49m\u001b[43mpunctuation_marks\u001b[49m\u001b[43m,\u001b[49m\n\u001b[1;32m     42\u001b[0m \u001b[43m        \u001b[49m\u001b[43mpreserve_punctuation\u001b[49m\u001b[38;5;241;43m=\u001b[39;49m\u001b[43mpreserve_punctuation\u001b[49m\u001b[43m,\u001b[49m\n\u001b[1;32m     43\u001b[0m \u001b[43m        \u001b[49m\u001b[43mlogger\u001b[49m\u001b[38;5;241;43m=\u001b[39;49m\u001b[43mlogger\u001b[49m\u001b[43m)\u001b[49m\n\u001b[1;32m     45\u001b[0m     \u001b[38;5;28mself\u001b[39m\u001b[38;5;241m.\u001b[39m_espeak \u001b[38;5;241m=\u001b[39m EspeakWrapper()\n\u001b[1;32m     46\u001b[0m     \u001b[38;5;28mself\u001b[39m\u001b[38;5;241m.\u001b[39mlogger\u001b[38;5;241m.\u001b[39mdebug(\u001b[38;5;124m'\u001b[39m\u001b[38;5;124mloaded \u001b[39m\u001b[38;5;132;01m%s\u001b[39;00m\u001b[38;5;124m'\u001b[39m, \u001b[38;5;28mself\u001b[39m\u001b[38;5;241m.\u001b[39m_espeak\u001b[38;5;241m.\u001b[39mlibrary_path)\n",
      "File \u001b[0;32m~/.conda/envs/ssl/lib/python3.11/site-packages/phonemizer/backend/base.py:77\u001b[0m, in \u001b[0;36mBaseBackend.__init__\u001b[0;34m(self, language, punctuation_marks, preserve_punctuation, logger)\u001b[0m\n\u001b[1;32m     75\u001b[0m \u001b[38;5;66;03m# ensure the backend is installed on the system\u001b[39;00m\n\u001b[1;32m     76\u001b[0m \u001b[38;5;28;01mif\u001b[39;00m \u001b[38;5;129;01mnot\u001b[39;00m \u001b[38;5;28mself\u001b[39m\u001b[38;5;241m.\u001b[39mis_available():\n\u001b[0;32m---> 77\u001b[0m     \u001b[38;5;28;01mraise\u001b[39;00m \u001b[38;5;167;01mRuntimeError\u001b[39;00m(  \u001b[38;5;66;03m# pragma: nocover\u001b[39;00m\n\u001b[1;32m     78\u001b[0m         \u001b[38;5;124m'\u001b[39m\u001b[38;5;132;01m{}\u001b[39;00m\u001b[38;5;124m not installed on your system\u001b[39m\u001b[38;5;124m'\u001b[39m\u001b[38;5;241m.\u001b[39mformat(\u001b[38;5;28mself\u001b[39m\u001b[38;5;241m.\u001b[39mname()))\n\u001b[1;32m     80\u001b[0m \u001b[38;5;28mself\u001b[39m\u001b[38;5;241m.\u001b[39m_logger \u001b[38;5;241m=\u001b[39m logger\n\u001b[1;32m     81\u001b[0m \u001b[38;5;28mself\u001b[39m\u001b[38;5;241m.\u001b[39m_logger\u001b[38;5;241m.\u001b[39minfo(\n\u001b[1;32m     82\u001b[0m     \u001b[38;5;124m'\u001b[39m\u001b[38;5;124minitializing backend \u001b[39m\u001b[38;5;132;01m%s\u001b[39;00m\u001b[38;5;124m-\u001b[39m\u001b[38;5;132;01m%s\u001b[39;00m\u001b[38;5;124m'\u001b[39m,\n\u001b[1;32m     83\u001b[0m     \u001b[38;5;28mself\u001b[39m\u001b[38;5;241m.\u001b[39mname(), \u001b[38;5;124m'\u001b[39m\u001b[38;5;124m.\u001b[39m\u001b[38;5;124m'\u001b[39m\u001b[38;5;241m.\u001b[39mjoin(\u001b[38;5;28mstr\u001b[39m(v) \u001b[38;5;28;01mfor\u001b[39;00m v \u001b[38;5;129;01min\u001b[39;00m \u001b[38;5;28mself\u001b[39m\u001b[38;5;241m.\u001b[39mversion()))\n",
      "\u001b[0;31mRuntimeError\u001b[0m: espeak not installed on your system"
     ]
    }
   ],
   "source": [
    "from phonemizer import phonemize\n",
    "import Levenshtein\n",
    "from transformers import Wav2Vec2ForCTC, Wav2Vec2Processor\n",
    "import soundfile as sf\n",
    "import torch\n",
    "import librosa\n",
    "import numpy as np\n",
    "\n",
    "# MFA 포맷을 IPA로 변환하기 위한 딕셔너리\n",
    "MFA2IPA = {\n",
    "    'A': 'ɐ',\n",
    "    'iA': 'jɐ',\n",
    "    'oA': 'wɐ',\n",
    "    'E': 'ɛ',\n",
    "    'iE': 'je',\n",
    "    'oE': 'wɛ',\n",
    "    'I': 'i',\n",
    "    'uI': 'wi',\n",
    "    'O': 'o',\n",
    "    'iO': 'jo',\n",
    "    'U': 'u',\n",
    "    'iU': 'ju',\n",
    "    'EO': 'ʌ',\n",
    "    'iEO': 'jʌ',\n",
    "    'uEO': 'wʌ',\n",
    "    'EU': 'ɯ',\n",
    "    'euI': 'ɯj',\n",
    "    'G': 'q',\n",
    "    'N': 'n',\n",
    "    'D': 'd',\n",
    "    'R': 'ɾ',\n",
    "    'M': 'm',\n",
    "    'B': 'p',\n",
    "    'S': 's',\n",
    "    'J': 'tɕ',\n",
    "    'Kh': 'kh',\n",
    "    'Th': 'th',\n",
    "    'Ph': 'ph',\n",
    "    'H': 'h',\n",
    "    'GG': 'qo',\n",
    "    'DD': 't',\n",
    "    'CHh': 'tʃh',\n",
    "    'NG': 'ŋ',\n",
    "    'L':'ɫ',\n",
    "    'p':'p',\n",
    "}\n",
    "\n",
    "\n",
    "# 한글 텍스트를 IPA로 변환\n",
    "def convert_to_ipa(korean_text):\n",
    "    ipa_text = phonemize(korean_text, language=\"ko\", backend=\"espeak\")\n",
    "\n",
    "    return ipa_text\n",
    "\n",
    "# Wav2Vec2로 오디오 파일에서 MFA 추론\n",
    "def map_to_pred(audio):\n",
    "    inputs = processor(audio, sampling_rate=16000, return_tensors=\"pt\", padding=\"longest\")\n",
    "    input_values = inputs.input_values.to('cuda')\n",
    "\n",
    "    with torch.no_grad():\n",
    "        logits = model(input_values).logits\n",
    "\n",
    "    predicted_ids = torch.argmax(logits, dim=-1)\n",
    "    transcription = processor.batch_decode(predicted_ids)\n",
    "    return transcription \n",
    "\n",
    "# 발음 기호간 유사도 계산\n",
    "def calculate_similarity(keyword_ipa, predicted_ipa):\n",
    "    distance = 0\n",
    "    keyword_length = len(keyword_ipa)\n",
    "    prediction_length = len(predicted_ipa)\n",
    "    \n",
    "    # Levenshtein 거리를 계산할 때 윈도우를 옮겨가며 최대가 되는 지점을 사용\n",
    "    # 예측된 것이 키워드의 IPA보다 작거나 같으면 윈도우 없이 그냥 계산\n",
    "    if keyword_length >= prediction_length:\n",
    "        # 문자열 길이 15로 패딩\n",
    "        padded_keyword_ipa = keyword_ipa+'0'*(15-keyword_length) if keyword_length < 15 else keyword_ipa\n",
    "        padded_predicted_ipa = predicted_ipa+'0'*(15-prediction_length) if prediction_length < 15 else predicted_ipa\n",
    "        \n",
    "        # Levenshtein 거리 계산\n",
    "        distance = Levenshtein.ratio(padded_keyword_ipa, padded_predicted_ipa)\n",
    "    else:\n",
    "        for window in range(len(predicted_ipa) - keyword_length):\n",
    "            # 문자열 길이 15로 패딩\n",
    "            padded_keyword_ipa = keyword_ipa+'0'*(15-keyword_length) if keyword_length < 15 else keyword_ipa\n",
    "            padded_predicted_ipa = predicted_ipa[window:window+keyword_length+1]+'0'*(15-keyword_length+1) if keyword_length+1 < 15 else predicted_ipa[window:window+keyword_length+1]\n",
    "            \n",
    "            # Levenshtein 거리 계산\n",
    "            distance = max(distance, Levenshtein.ratio(padded_keyword_ipa, padded_predicted_ipa))\n",
    "    \n",
    "    return distance\n",
    "\n",
    "\n",
    "# 문자열에서 IPA 받아옴 ex) 영석아 -> jʌŋsʌqɐ\n",
    "keyword = \"저기요\"\n",
    "ipa_of_keyword = convert_to_ipa(keyword).replace(' ', '')\n",
    "print(f\"ipa of '{keyword}' : {ipa_of_keyword}\")\n",
    "\n",
    "# 허깅페이스에서 Wav2Vec2로 한국어의 MFA 발음을 예측하도록 학습된 모델을 가져옴\n",
    "processor = Wav2Vec2Processor.from_pretrained(\"slplab/wav2vec2-xls-r-300m_phone-mfa_korean\")\n",
    "model = Wav2Vec2ForCTC.from_pretrained(\"slplab/wav2vec2-xls-r-300m_phone-mfa_korean\").to('cuda')"
   ]
  },
  {
   "cell_type": "code",
   "execution_count": null,
   "id": "36524364-431e-43f3-8d61-5e3e6f09b956",
   "metadata": {
    "execution": {
     "iopub.status.busy": "2023-08-28T02:31:54.232719Z",
     "iopub.status.idle": "2023-08-28T02:31:54.233736Z",
     "shell.execute_reply": "2023-08-28T02:31:54.233598Z",
     "shell.execute_reply.started": "2023-08-28T02:31:54.233581Z"
    }
   },
   "outputs": [],
   "source": [
    "# 오디오 로드\n",
    "audio, sr = librosa.load('./영석아3.wav', sr=16000)\n",
    "\n",
    "# 모델로 입력 오디오의 MFA format 추론\n",
    "result = map_to_pred([audio])\n",
    "\n",
    "# MFA format을 IPA symbol로 변환\n",
    "model_output_ipa = ''.join([MFA2IPA[mfa] for mfa in result[0].split(' ')])\n",
    "print(f\"ipa of model prediction : {model_output_ipa}\")\n",
    "\n",
    "# Levenshtein 거리로 유사도 계산\n",
    "# 임계값은 0.9로 설정\n",
    "similarity = calculate_similarity(ipa_of_keyword, model_output_ipa)\n",
    "print(f\"similarity between '{ipa_of_keyword}' and '{model_output_ipa}' : {similarity}\")"
   ]
  },
  {
   "cell_type": "code",
   "execution_count": null,
   "id": "3b006e9f-2698-48b9-8bdf-17316015161e",
   "metadata": {},
   "outputs": [],
   "source": []
  }
 ],
 "metadata": {
  "kernelspec": {
   "display_name": "ssl",
   "language": "python",
   "name": "ssl"
  },
  "language_info": {
   "codemirror_mode": {
    "name": "ipython",
    "version": 3
   },
   "file_extension": ".py",
   "mimetype": "text/x-python",
   "name": "python",
   "nbconvert_exporter": "python",
   "pygments_lexer": "ipython3",
   "version": "3.11.4"
  }
 },
 "nbformat": 4,
 "nbformat_minor": 5
}
