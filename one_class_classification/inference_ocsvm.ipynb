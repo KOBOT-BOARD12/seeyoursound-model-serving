{
 "cells": [
  {
   "cell_type": "code",
   "execution_count": 2,
   "id": "9db07e94-b6b4-45d0-91c5-79066382a65b",
   "metadata": {
    "execution": {
     "iopub.execute_input": "2023-08-31T09:12:49.662590Z",
     "iopub.status.busy": "2023-08-31T09:12:49.661883Z",
     "iopub.status.idle": "2023-08-31T09:12:51.541118Z",
     "shell.execute_reply": "2023-08-31T09:12:51.540506Z",
     "shell.execute_reply.started": "2023-08-31T09:12:49.662530Z"
    },
    "tags": []
   },
   "outputs": [],
   "source": [
    "from transformers import AutoFeatureExtractor, ASTModel\n",
    "import torch\n",
    "import librosa\n",
    "import joblib, pickle"
   ]
  },
  {
   "cell_type": "code",
   "execution_count": null,
   "id": "e5eb9e35",
   "metadata": {},
   "outputs": [],
   "source": [
    "def model_load(ast_path, scaler_path, pca_path, ocsvm_path):\n",
    "    feature_extractor = AutoFeatureExtractor.from_pretrained(ast_path)\n",
    "    model = ASTModel.from_pretrained(ast_path).to('cuda')\n",
    "\n",
    "    scaler = joblib.load(scaler_path)\n",
    "    pca = joblib.load(pca_path)\n",
    "    ocsvm = joblib.load(ocsvm_path)\n",
    "\n",
    "    return feature_extractor, model, scaler, pca, ocsvm\n",
    "\n",
    "feature_extractor, model, scaler, pca, ocsvm = model_load(\"bookbot/distil-ast-audioset\", './robustscaler_AST.pkl', './pca_AST.pkl', './ocsvm_AST.pkl')"
   ]
  },
  {
   "cell_type": "code",
   "execution_count": 4,
   "id": "33eaf7e3-27bd-4963-aaea-ce2babdfd345",
   "metadata": {
    "execution": {
     "iopub.execute_input": "2023-08-31T09:13:11.323396Z",
     "iopub.status.busy": "2023-08-31T09:13:11.322472Z",
     "iopub.status.idle": "2023-08-31T09:13:11.481634Z",
     "shell.execute_reply": "2023-08-31T09:13:11.481036Z",
     "shell.execute_reply.started": "2023-08-31T09:13:11.323330Z"
    },
    "tags": []
   },
   "outputs": [
    {
     "name": "stdout",
     "output_type": "stream",
     "text": [
      "0.10894584655761719\n"
     ]
    }
   ],
   "source": [
    "data_path = './train/대화_57_43.wav'\n",
    "audio, sr = librosa.load(data_path, sr=16000)\n",
    "\n",
    "def inference(audio, sr=16000):\n",
    "    input_tensor = feature_extractor(audio, sampling_rate=sr, return_tensors=\"pt\")\n",
    "    with torch.inference_mode():\n",
    "        feature = model(**input_tensor.to('cuda')).last_hidden_state.detach()\n",
    "        feature = feature.cpu().numpy().reshape(1, -1)\n",
    "        feature = scaler.transform(feature)\n",
    "        feature = pca.transform(feature)\n",
    "        pred = ocsvm.predict(feature)\n",
    "    \n",
    "    return pred\n",
    "\n",
    "import time\n",
    "s_time = time.time()\n",
    "pred = inference(audio)\n",
    "print(time.time()-s_time)"
   ]
  },
  {
   "cell_type": "code",
   "execution_count": 5,
   "id": "074d4c95-ce4c-4105-9b1d-48703c9e2dc0",
   "metadata": {
    "execution": {
     "iopub.execute_input": "2023-08-31T09:13:27.993150Z",
     "iopub.status.busy": "2023-08-31T09:13:27.992486Z",
     "iopub.status.idle": "2023-08-31T09:13:28.009319Z",
     "shell.execute_reply": "2023-08-31T09:13:28.008258Z",
     "shell.execute_reply.started": "2023-08-31T09:13:27.993093Z"
    },
    "tags": []
   },
   "outputs": [
    {
     "data": {
      "text/plain": [
       "array([1])"
      ]
     },
     "execution_count": 5,
     "metadata": {},
     "output_type": "execute_result"
    }
   ],
   "source": [
    "pred"
   ]
  }
 ],
 "metadata": {
  "kernelspec": {
   "display_name": "ssl",
   "language": "python",
   "name": "ssl"
  },
  "language_info": {
   "codemirror_mode": {
    "name": "ipython",
    "version": 3
   },
   "file_extension": ".py",
   "mimetype": "text/x-python",
   "name": "python",
   "nbconvert_exporter": "python",
   "pygments_lexer": "ipython3",
   "version": "3.11.4"
  }
 },
 "nbformat": 4,
 "nbformat_minor": 5
}
