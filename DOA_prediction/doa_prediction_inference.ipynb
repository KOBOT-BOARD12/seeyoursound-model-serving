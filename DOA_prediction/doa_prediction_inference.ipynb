{
 "cells": [
  {
   "cell_type": "code",
   "execution_count": 8,
   "id": "aa2f956f-a262-489a-931a-62577b78e90d",
   "metadata": {
    "execution": {
     "iopub.execute_input": "2023-09-04T12:06:02.068013Z",
     "iopub.status.busy": "2023-09-04T12:06:02.067702Z",
     "iopub.status.idle": "2023-09-04T12:06:02.071842Z",
     "shell.execute_reply": "2023-09-04T12:06:02.070970Z",
     "shell.execute_reply.started": "2023-09-04T12:06:02.067989Z"
    },
    "tags": []
   },
   "outputs": [],
   "source": [
    "import librosa\n",
    "import numpy as np\n",
    "import torch\n",
    "import torch.nn as nn"
   ]
  },
  {
   "cell_type": "code",
   "execution_count": 3,
   "id": "64dceffc-2673-4fd2-8bdc-1ceac3179c34",
   "metadata": {
    "execution": {
     "iopub.execute_input": "2023-09-04T12:01:50.951829Z",
     "iopub.status.busy": "2023-09-04T12:01:50.951648Z",
     "iopub.status.idle": "2023-09-04T12:01:50.961512Z",
     "shell.execute_reply": "2023-09-04T12:01:50.960911Z",
     "shell.execute_reply.started": "2023-09-04T12:01:50.951813Z"
    }
   },
   "outputs": [],
   "source": [
    "class CRNN(nn.Module):\n",
    "    def __init__(self):\n",
    "        super(CRNN, self).__init__()\n",
    "        self.CNNLayer = nn.Sequential(\n",
    "            nn.Conv2d(1, 64, (2,2), stride=(2,2)),\n",
    "            nn.ReLU(),\n",
    "            nn.MaxPool2d(kernel_size=(2,2)),\n",
    "            \n",
    "            nn.Conv2d(64, 64, (2,2), stride=(2,2)),\n",
    "            nn.ReLU(),\n",
    "            \n",
    "            nn.Conv2d(64, 64, (2,2), stride=(2,2)),\n",
    "            nn.ReLU(),\n",
    "        )\n",
    "        \n",
    "        self.flatten = nn.Flatten()\n",
    "        \n",
    "        self.LinearLayer = nn.Sequential(\n",
    "            nn.Linear(12288, 512),\n",
    "            nn.ReLU(),\n",
    "            nn.Dropout(p=0.5),\n",
    "            nn.Linear(512, 256),\n",
    "            nn.ReLU(),\n",
    "            nn.Dropout(p=0.5),\n",
    "            nn.Linear(256, 4),\n",
    "            nn.Softmax(dim=1),\n",
    "        )\n",
    "    \n",
    "    def forward(self, x):\n",
    "        conv_output = self.CNNLayer(x)\n",
    "        flatten = self.flatten(conv_output)\n",
    "        linear_output = self.LinearLayer(flatten)\n",
    "        \n",
    "        return linear_output"
   ]
  },
  {
   "cell_type": "code",
   "execution_count": 6,
   "id": "96fe1f23-4ffc-4a56-8a65-ecee1d2eb2ff",
   "metadata": {
    "execution": {
     "iopub.execute_input": "2023-09-04T12:04:29.305829Z",
     "iopub.status.busy": "2023-09-04T12:04:29.305515Z",
     "iopub.status.idle": "2023-09-04T12:04:29.524408Z",
     "shell.execute_reply": "2023-09-04T12:04:29.523844Z",
     "shell.execute_reply.started": "2023-09-04T12:04:29.305804Z"
    },
    "tags": []
   },
   "outputs": [
    {
     "name": "stderr",
     "output_type": "stream",
     "text": [
      "/tmp/ipykernel_25445/2405761665.py:5: UserWarning: PySoundFile failed. Trying audioread instead.\n",
      "  audio, sr = librosa.load('./옆2.m4a', sr=16000, mono=False)\n",
      "/home/20223164/.conda/envs/ssl/lib/python3.11/site-packages/librosa/core/audio.py:183: FutureWarning: librosa.core.audio.__audioread_load\n",
      "\tDeprecated as of librosa version 0.10.0.\n",
      "\tIt will be removed in librosa version 1.0.\n",
      "  y, sr_native = __audioread_load(path, offset, duration, dtype)\n"
     ]
    }
   ],
   "source": [
    "model = CRNN()\n",
    "model = torch.load('./4direction_best.pt').to('cuda')\n",
    "model.eval()\n",
    "\n",
    "audio, sr = librosa.load('./옆2.m4a', sr=16000, mono=False)\n",
    "audio = audio[:, :16000]\n",
    "\n",
    "win_length = 320 # 320은 20ms 의미"
   ]
  },
  {
   "cell_type": "code",
   "execution_count": 13,
   "id": "82efc515-0c4f-4393-8b28-2f5d428b6328",
   "metadata": {
    "execution": {
     "iopub.execute_input": "2023-09-04T12:09:57.503251Z",
     "iopub.status.busy": "2023-09-04T12:09:57.502955Z",
     "iopub.status.idle": "2023-09-04T12:09:57.538968Z",
     "shell.execute_reply": "2023-09-04T12:09:57.538474Z",
     "shell.execute_reply.started": "2023-09-04T12:09:57.503220Z"
    },
    "tags": []
   },
   "outputs": [
    {
     "name": "stdout",
     "output_type": "stream",
     "text": [
      "0.028270721435546875\n"
     ]
    }
   ],
   "source": [
    "import time\n",
    "\n",
    "def inference(audio):\n",
    "    with torch.inference_mode():\n",
    "        stft1 = librosa.stft(audio[0], n_fft=512, hop_length=win_length, win_length=win_length)\n",
    "        stft2 = librosa.stft(audio[1], n_fft=512, hop_length=win_length, win_length=win_length)\n",
    "\n",
    "        feature_set1 = torch.tensor(np.concatenate((stft1.real, stft2.real), axis=0))\n",
    "        feature_set2 = torch.tensor(np.concatenate((stft1.imag, stft2.imag), axis=0))\n",
    "\n",
    "        feature = torch.concatenate((feature_set1, feature_set2), axis=0)\n",
    "\n",
    "        feature = feature.unsqueeze(0).unsqueeze(0).to('cuda')\n",
    "        output = model(feature).argmax(dim=1)\n",
    "    \n",
    "    return output\n",
    "\n",
    "s_time = time.time()\n",
    "output = inference(audio)\n",
    "print(time.time()-s_time)"
   ]
  },
  {
   "cell_type": "code",
   "execution_count": 12,
   "id": "c446e7c6-b12e-41ab-98b6-bed6afa7d9ec",
   "metadata": {
    "execution": {
     "iopub.execute_input": "2023-09-04T12:08:58.325120Z",
     "iopub.status.busy": "2023-09-04T12:08:58.324828Z",
     "iopub.status.idle": "2023-09-04T12:08:58.565441Z",
     "shell.execute_reply": "2023-09-04T12:08:58.564793Z",
     "shell.execute_reply.started": "2023-09-04T12:08:58.325096Z"
    },
    "tags": []
   },
   "outputs": [
    {
     "data": {
      "text/plain": [
       "tensor([0], device='cuda:0')"
      ]
     },
     "execution_count": 12,
     "metadata": {},
     "output_type": "execute_result"
    }
   ],
   "source": [
    "output"
   ]
  },
  {
   "cell_type": "code",
   "execution_count": null,
   "id": "48ec25da-c8d9-4183-b13a-0b6efcb444f7",
   "metadata": {},
   "outputs": [],
   "source": []
  }
 ],
 "metadata": {
  "kernelspec": {
   "display_name": "ssl",
   "language": "python",
   "name": "ssl"
  },
  "language_info": {
   "codemirror_mode": {
    "name": "ipython",
    "version": 3
   },
   "file_extension": ".py",
   "mimetype": "text/x-python",
   "name": "python",
   "nbconvert_exporter": "python",
   "pygments_lexer": "ipython3",
   "version": "3.11.4"
  }
 },
 "nbformat": 4,
 "nbformat_minor": 5
}
